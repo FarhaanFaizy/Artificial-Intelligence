{
 "cells": [
  {
   "cell_type": "code",
   "execution_count": 8,
   "id": "eb2b6643",
   "metadata": {},
   "outputs": [
    {
     "name": "stdout",
     "output_type": "stream",
     "text": [
      "If the puzzle is \n",
      "1 2 3\n",
      "4   6\n",
      "7 5 8\n",
      "input shall be given as 1234_6758\n",
      "Enter puzzle start state:12356_784\n",
      "Enter puzzle expected end state:123586_74\n"
     ]
    }
   ],
   "source": [
    "print(\"If the puzzle is \\n1 2 3\\n4   6\\n7 5 8\\ninput shall be given as 1234_6758\")\n",
    "start=input(\"Enter puzzle start state:\")\n",
    "final=input(\"Enter puzzle expected end state:\")"
   ]
  },
  {
   "cell_type": "code",
   "execution_count": 2,
   "id": "328469db",
   "metadata": {},
   "outputs": [],
   "source": [
    "def allpossible(state):\n",
    "    l=[]\n",
    "    index=state.index(\"_\")\n",
    "    if index in [0,1,3,4,6,7]:\n",
    "        source=state[:]\n",
    "        source[index],source[index+1]=source[index+1],source[index]\n",
    "        l.append(''.join(source))\n",
    "    if index in [1,2,4,5,7,8]:\n",
    "        source=state[:]\n",
    "        source[index],source[index-1]=source[index-1],source[index]\n",
    "        l.append(''.join(source))\n",
    "    if index in [3,4,5,6,7,8]:\n",
    "        source=state[:]\n",
    "        source[index],source[index-3]=source[index-3],source[index]\n",
    "        l.append(''.join(source))\n",
    "    if index in [0,1,2,3,4,5]:\n",
    "        source=state[:]\n",
    "        source[index],source[index+3]=source[index+3],source[index]\n",
    "        l.append(''.join(source))\n",
    "    return l"
   ]
  },
  {
   "cell_type": "code",
   "execution_count": 3,
   "id": "96f31002",
   "metadata": {},
   "outputs": [],
   "source": [
    "def heuristics(state,final):\n",
    "    state=list(state)\n",
    "    final=list(final)\n",
    "    c=0\n",
    "    for i in range(len(state)):\n",
    "        if state[i]!=final[i]:\n",
    "            c+=1\n",
    "    return c"
   ]
  },
  {
   "cell_type": "code",
   "execution_count": 9,
   "id": "4e14ac8e",
   "metadata": {},
   "outputs": [
    {
     "data": {
      "text/plain": [
       "({'12356_784': ['1235_6784', '12_563784', '12356478_'],\n",
       "  '1235_6784': ['12356_784', '123_56784', '1_3526784', '1235867_4'],\n",
       "  '1235867_4': ['12358674_', '123586_74', '1235_6784']},\n",
       " ['12356_784', '1235_6784', '1235867_4', '123586_74'])"
      ]
     },
     "execution_count": 9,
     "metadata": {},
     "output_type": "execute_result"
    }
   ],
   "source": [
    "def EightPuzzle(source,final):\n",
    "    all_nodes=[source]\n",
    "    closed_list=[]\n",
    "    d={}\n",
    "    cost=0\n",
    "    while source!=final:\n",
    "        closed_list.append(source)\n",
    "        l=allpossible(list(source))\n",
    "        heur=[]\n",
    "        for i in l:\n",
    "            heur.append(heuristics(i,final))\n",
    "        index=heur.index(min(heur))\n",
    "        d[source]=l\n",
    "        source=l[index]\n",
    "        cost=cost+1\n",
    "    closed_list.append(source)\n",
    "    return d,closed_list\n",
    "EightPuzzle(start,final)"
   ]
  }
 ],
 "metadata": {
  "kernelspec": {
   "display_name": "Python 3 (ipykernel)",
   "language": "python",
   "name": "python3"
  },
  "language_info": {
   "codemirror_mode": {
    "name": "ipython",
    "version": 3
   },
   "file_extension": ".py",
   "mimetype": "text/x-python",
   "name": "python",
   "nbconvert_exporter": "python",
   "pygments_lexer": "ipython3",
   "version": "3.10.9"
  }
 },
 "nbformat": 4,
 "nbformat_minor": 5
}
