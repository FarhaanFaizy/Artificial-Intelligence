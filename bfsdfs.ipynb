{
 "cells": [
  {
   "cell_type": "code",
   "execution_count": 3,
   "id": "89367cb2",
   "metadata": {},
   "outputs": [],
   "source": [
    "# d={'A':['B','C','D'],'B':['E','F'],'C':['G','H'],'D':['I','J'],'E':['K','L'],'F':['L','M'],\n",
    "#   'G':['N'],'H':['O','P'],'I':['P','Q'],'J':['R'],'K':['S'],'L':['T'],'P':['U'],'M':[],\n",
    "#    'N':[],'O':[],'Q':[],'R':[],'S':[],'T':[],'U':[],}"
   ]
  },
  {
   "cell_type": "code",
   "execution_count": 6,
   "id": "1d185834",
   "metadata": {},
   "outputs": [],
   "source": [
    "def bfs(d,source,key):\n",
    "    open_list=[source]\n",
    "    closed_list=[]\n",
    "    print(\"Open List--Closed List\")\n",
    "    print(''.join(str(open_list)),''.join(str(closed_list)),sep='--')\n",
    "    while open_list:\n",
    "        source=open_list.pop(0)\n",
    "        closed_list.append(source)\n",
    "        if source==key:\n",
    "            print('Required node is found',key)\n",
    "            return closed_list\n",
    "        for i in d[source]:\n",
    "            if i not in closed_list and i not in open_list:\n",
    "                open_list.append(i)\n",
    "        print(''.join(str(open_list)),''.join(str(closed_list)),sep='--',end='\\n\\n')\n",
    "#             print(''.join(open_list),''.join(closed_list),sep='--')\n",
    "    return closed_list"
   ]
  },
  {
   "cell_type": "code",
   "execution_count": 8,
   "id": "e0744279",
   "metadata": {},
   "outputs": [],
   "source": [
    "def dfs(d,source,key):\n",
    "    open_list=[source]\n",
    "    closed_list=[]\n",
    "    print(\"Open List--Closed List\")\n",
    "    print(''.join(str(open_list)),''.join(str(closed_list)),sep='--')\n",
    "    while open_list:\n",
    "        source=open_list.pop(0)\n",
    "        closed_list.append(source)\n",
    "        if source==key:\n",
    "            print('Required node is found',key)\n",
    "            return closed_list\n",
    "        for i in d[source]:\n",
    "            if i not in closed_list and i not in open_list:\n",
    "                open_list.insert(0,i)\n",
    "        print(''.join(str(open_list)),''.join(str(closed_list)),sep='--',end='\\n\\n')\n",
    "#             print(''.join(open_list),''.join(closed_list),sep='--')\n",
    "    return closed_list"
   ]
  },
  {
   "cell_type": "code",
   "execution_count": 38,
   "id": "7511be6b",
   "metadata": {},
   "outputs": [
    {
     "name": "stdout",
     "output_type": "stream",
     "text": [
      "Open List--Closed List\n",
      "A--\n",
      "B--A\n",
      "BC--A\n",
      "BCD--A\n",
      "CDE--AB\n",
      "CDEF--AB\n",
      "DEFG--ABC\n",
      "DEFGH--ABC\n",
      "EFGHI--ABCD\n",
      "EFGHIJ--ABCD\n",
      "FGHIJK--ABCDE\n",
      "FGHIJKL--ABCDE\n",
      "GHIJKL--ABCDEF\n",
      "GHIJKLM--ABCDEF\n",
      "HIJKLMN--ABCDEFG\n",
      "IJKLMNO--ABCDEFGH\n",
      "IJKLMNOP--ABCDEFGH\n",
      "JKLMNOP--ABCDEFGHI\n",
      "JKLMNOPQ--ABCDEFGHI\n",
      "KLMNOPQR--ABCDEFGHIJ\n",
      "LMNOPQRS--ABCDEFGHIJK\n",
      "MNOPQRST--ABCDEFGHIJKL\n",
      "QRSTU--ABCDEFGHIJKLMNOP\n",
      "Required node is found U\n"
     ]
    }
   ],
   "source": [
    "# x=bfs(d,'A','U')"
   ]
  },
  {
   "cell_type": "code",
   "execution_count": 43,
   "id": "96badf51",
   "metadata": {},
   "outputs": [
    {
     "name": "stdout",
     "output_type": "stream",
     "text": [
      "Open List--Closed List\n",
      "A--\n",
      "B--A\n",
      "CB--A\n",
      "DCB--A\n",
      "ICB--AD\n",
      "JICB--AD\n",
      "RICB--ADJ\n",
      "PCB--ADJRI\n",
      "QPCB--ADJRI\n",
      "UCB--ADJRIQP\n",
      "Required node is found U\n"
     ]
    }
   ],
   "source": [
    "# x=dfs(d,'A','U')"
   ]
  }
 ],
 "metadata": {
  "kernelspec": {
   "display_name": "Python 3 (ipykernel)",
   "language": "python",
   "name": "python3"
  },
  "language_info": {
   "codemirror_mode": {
    "name": "ipython",
    "version": 3
   },
   "file_extension": ".py",
   "mimetype": "text/x-python",
   "name": "python",
   "nbconvert_exporter": "python",
   "pygments_lexer": "ipython3",
   "version": "3.11.3"
  }
 },
 "nbformat": 4,
 "nbformat_minor": 5
}
