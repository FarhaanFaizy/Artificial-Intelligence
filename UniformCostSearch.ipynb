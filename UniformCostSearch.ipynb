{
 "cells": [
  {
   "cell_type": "code",
   "execution_count": 9,
   "id": "5eff22d2",
   "metadata": {},
   "outputs": [],
   "source": [
    "graph=[[0,6,4,0,0,0,0,0],\n",
    "      [0,0,0,4,0,0,0,0],\n",
    "      [0,0,0,0,0,8,0,0],\n",
    "      [0,0,0,0,0,0,2,0],\n",
    "      [0,0,0,0,0,0,0,0],\n",
    "      [0,0,0,0,9,0,0,7],\n",
    "      [0,0,0,0,9,0,0,3],\n",
    "      [0,0,0,0,4,0,0,0]]\n",
    "graph2={'A':['B','C'],'B':['D'],'C':['F'],'D':['G'],'E':[],'F':['E','H'],'G':['E','H'],'H':['E']}"
   ]
  },
  {
   "cell_type": "code",
   "execution_count": 26,
   "id": "1c52a208",
   "metadata": {},
   "outputs": [
    {
     "name": "stdout",
     "output_type": "stream",
     "text": [
      "A -> B -> D -> G -> H -> E  Cost :19\n"
     ]
    }
   ],
   "source": [
    "def explore(graph,source,destination,lis):\n",
    "    if source==destination:\n",
    "        return [lis]\n",
    "    paths=[]\n",
    "    for i in range(len(graph[source])):\n",
    "        if graph[source][i]!=0:\n",
    "            new_lis = lis + [[graph[source][i], chr(65 + i)]]\n",
    "            paths.extend(explore(graph, i, destination, new_lis))\n",
    "    return paths\n",
    "# source=int(input(\"Enter source node number:\"))\n",
    "# destination=int(input(\"Enter destination node number:\"))\n",
    "source=0\n",
    "destination=4\n",
    "paths=explore(graph,source,destination,[[0,chr(65)]])\n",
    "final=[]\n",
    "for path in paths:\n",
    "    s=0\n",
    "    for j in path:\n",
    "        s+=j[0]\n",
    "    if paths.index(path)==0:\n",
    "        cost=s\n",
    "        final=list(zip(*path))[1]\n",
    "    elif cost>s:\n",
    "        cost=s\n",
    "        final=list(zip(*path))[1]\n",
    "for i in final:\n",
    "    if i==final[-1]:\n",
    "        print(i,end='  Cost :')\n",
    "    else:\n",
    "        print(i,'-> ',end='')\n",
    "print(cost)"
   ]
  }
 ],
 "metadata": {
  "kernelspec": {
   "display_name": "Python 3 (ipykernel)",
   "language": "python",
   "name": "python3"
  },
  "language_info": {
   "codemirror_mode": {
    "name": "ipython",
    "version": 3
   },
   "file_extension": ".py",
   "mimetype": "text/x-python",
   "name": "python",
   "nbconvert_exporter": "python",
   "pygments_lexer": "ipython3",
   "version": "3.11.3"
  }
 },
 "nbformat": 4,
 "nbformat_minor": 5
}
