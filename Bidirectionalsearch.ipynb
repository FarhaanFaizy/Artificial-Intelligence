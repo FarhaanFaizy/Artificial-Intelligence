{
 "cells": [
  {
   "cell_type": "code",
   "execution_count": 1,
   "id": "3e6e96a9",
   "metadata": {},
   "outputs": [],
   "source": [
    "d={'A':['B','C','D'],'B':['E','F'],'C':['G','H'],'D':['I','J'],'E':['K','L'],'F':['L','M'],\n",
    "  'G':['N'],'H':['O','P'],'I':['P','Q'],'J':['R'],'K':['S'],'L':['T'],'P':['U'],'M':[],\n",
    "  'N':[],'O':[],'Q':[],'R':[],'S':[],'T':[],'U':[]}"
   ]
  },
  {
   "cell_type": "code",
   "execution_count": 12,
   "id": "72146031",
   "metadata": {},
   "outputs": [
    {
     "name": "stdout",
     "output_type": "stream",
     "text": [
      "Enter number of nodes in graph:21\n",
      "A B C D E F G H I J K L M N O P Q R S T U are the nodes\n",
      "Enter the child nodes of A:B C D\n",
      "Enter the child nodes of B:E F\n",
      "Enter the child nodes of C:G H\n",
      "Enter the child nodes of D:I J\n",
      "Enter the child nodes of E:K L\n",
      "Enter the child nodes of F:L M\n",
      "Enter the child nodes of G:N\n",
      "Enter the child nodes of H:O P\n",
      "Enter the child nodes of I:P Q\n",
      "Enter the child nodes of J:R\n",
      "Enter the child nodes of K:S\n",
      "Enter the child nodes of L:T\n",
      "Enter the child nodes of M:0\n",
      "Enter the child nodes of N:0\n",
      "Enter the child nodes of O:0\n",
      "Enter the child nodes of P:U\n",
      "Enter the child nodes of Q:0\n",
      "Enter the child nodes of R:0\n",
      "Enter the child nodes of S:0\n",
      "Enter the child nodes of T:0\n",
      "Enter the child nodes of U:0\n",
      "Enter source node:A\n",
      "Enter destination node:U\n"
     ]
    },
    {
     "data": {
      "text/plain": [
       "['A', 'B', 'C', 'I', 'H', 'P', 'U']"
      ]
     },
     "execution_count": 12,
     "metadata": {},
     "output_type": "execute_result"
    }
   ],
   "source": [
    "def bidirectional_search(d,source,key):\n",
    "    drev={}\n",
    "    for i,j in d.items():\n",
    "        for k in j:\n",
    "            if k in drev:\n",
    "                drev[k].append(i)\n",
    "            else:\n",
    "                drev[k]=[i]\n",
    "    open_list1=[source]\n",
    "    closed_list1=[]\n",
    "    open_list2=[key]\n",
    "    closed_list2=[]\n",
    "    while open_list1 or open_list2:\n",
    "        source1=open_list1.pop(0)\n",
    "        closed_list1.append(source1)\n",
    "        source2=open_list2.pop(0)\n",
    "        closed_list2.append(source2)\n",
    "        res=[]\n",
    "        for i in closed_list1:\n",
    "            if i in closed_list2:\n",
    "                res=closed_list1[:closed_list1.index(i)+1]+closed_list2[:closed_list2.index(i)][::-1]\n",
    "                return res\n",
    "        for i in d[source1]:\n",
    "            if i not in closed_list1 and i not in open_list1:\n",
    "                open_list1.append(i)\n",
    "        for i in drev[source2]:\n",
    "            if i not in closed_list2 and i not in open_list2:\n",
    "                open_list2.append(i)\n",
    "n=int(input(\"Enter number of nodes in graph:\"))\n",
    "for i in range(n):\n",
    "    print(chr(65+i),end=' ')\n",
    "print(\"are the nodes\")\n",
    "d={}\n",
    "for i in range(n):\n",
    "    print(\"Enter the child nodes of\",chr(i+65),end='')\n",
    "    c=list(map(str,input(\":\").split()))\n",
    "    if c[0]!='0':\n",
    "        d[chr(i+65)]=c\n",
    "    else:\n",
    "        d[chr(i+65)]=[]\n",
    "source=input(\"Enter source node:\")\n",
    "key=input(\"Enter destination node:\")\n",
    "bidirectional_search(d,'A','U')"
   ]
  }
 ],
 "metadata": {
  "kernelspec": {
   "display_name": "Python 3 (ipykernel)",
   "language": "python",
   "name": "python3"
  },
  "language_info": {
   "codemirror_mode": {
    "name": "ipython",
    "version": 3
   },
   "file_extension": ".py",
   "mimetype": "text/x-python",
   "name": "python",
   "nbconvert_exporter": "python",
   "pygments_lexer": "ipython3",
   "version": "3.10.9"
  }
 },
 "nbformat": 4,
 "nbformat_minor": 5
}
