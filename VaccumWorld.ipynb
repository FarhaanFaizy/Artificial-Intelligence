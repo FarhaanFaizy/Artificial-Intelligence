{
 "cells": [
  {
   "cell_type": "code",
   "execution_count": 1,
   "id": "9818c369",
   "metadata": {},
   "outputs": [],
   "source": [
    "import numpy as np\n",
    "import pandas as pd"
   ]
  },
  {
   "cell_type": "code",
   "execution_count": 13,
   "id": "a08de3a0",
   "metadata": {},
   "outputs": [],
   "source": [
    "def move(state):\n",
    "    state=list(state)\n",
    "    temp=state[1]\n",
    "    state[1]=state[-1]\n",
    "    state[-1]=temp\n",
    "    return ''.join(state)\n",
    "def clean(state):\n",
    "    state=list(state)\n",
    "    if state[0]=='1' and state[1]=='1':\n",
    "        state[0]='0'\n",
    "    if state[2]=='1' and state[3]=='1':\n",
    "        state[2]='0'\n",
    "    return ''.join(state)"
   ]
  },
  {
   "cell_type": "code",
   "execution_count": 19,
   "id": "501c48ad",
   "metadata": {},
   "outputs": [
    {
     "data": {
      "text/plain": [
       "{'1110': ['1011', '0110'],\n",
       " '1011': ['1001'],\n",
       " '0110': ['0011'],\n",
       " '1001': ['1100'],\n",
       " '0011': ['0001'],\n",
       " '1100': [],\n",
       " '0001': []}"
      ]
     },
     "execution_count": 19,
     "metadata": {},
     "output_type": "execute_result"
    }
   ],
   "source": [
    "def make_tree(start,final):\n",
    "    d={}\n",
    "    d[start]=[]\n",
    "    all_nodes=[start]\n",
    "    c=1\n",
    "    h=-1\n",
    "    source=start\n",
    "    while(h<c and source not in final):\n",
    "        h+=1\n",
    "        source=all_nodes[h]\n",
    "        state=move(source)\n",
    "        if state not in all_nodes:\n",
    "            all_nodes.append(state)\n",
    "            d[source].append(state)\n",
    "            d[state]=[]\n",
    "            if state in final:\n",
    "                break\n",
    "        state=clean(source)\n",
    "        if state not in all_nodes:\n",
    "            all_nodes.append(state)\n",
    "            d[source].append(state)\n",
    "            d[state]=[]\n",
    "            if state in final:\n",
    "                break\n",
    "        c=len(all_nodes)\n",
    "    return d,state\n",
    "start='1110'\n",
    "final=['0100','0001']\n",
    "d,st=make_tree(start,final)\n",
    "d"
   ]
  },
  {
   "cell_type": "code",
   "execution_count": 16,
   "id": "a4169f88",
   "metadata": {},
   "outputs": [],
   "source": [
    "%run bfsdfs.ipynb"
   ]
  },
  {
   "cell_type": "code",
   "execution_count": 20,
   "id": "ce768628",
   "metadata": {},
   "outputs": [
    {
     "name": "stdout",
     "output_type": "stream",
     "text": [
      "Open List--Closed List\n",
      "['1110']--[]\n",
      "['1011', '0110']--['1110']\n",
      "\n",
      "['0110', '1001']--['1110', '1011']\n",
      "\n",
      "['1001', '0011']--['1110', '1011', '0110']\n",
      "\n",
      "['0011', '1100']--['1110', '1011', '0110', '1001']\n",
      "\n",
      "['1100', '0001']--['1110', '1011', '0110', '1001', '0011']\n",
      "\n",
      "['0001']--['1110', '1011', '0110', '1001', '0011', '1100']\n",
      "\n",
      "Required node is found 0001\n"
     ]
    },
    {
     "data": {
      "text/plain": [
       "['1110', '1011', '0110', '1001', '0011', '1100', '0001']"
      ]
     },
     "execution_count": 20,
     "metadata": {},
     "output_type": "execute_result"
    }
   ],
   "source": [
    "bfs(d,start,st)"
   ]
  },
  {
   "cell_type": "code",
   "execution_count": 21,
   "id": "051a8302",
   "metadata": {},
   "outputs": [
    {
     "name": "stdout",
     "output_type": "stream",
     "text": [
      "Open List--Closed List\n",
      "['1110']--[]\n",
      "['0110', '1011']--['1110']\n",
      "\n",
      "['0011', '1011']--['1110', '0110']\n",
      "\n",
      "['0001', '1011']--['1110', '0110', '0011']\n",
      "\n",
      "Required node is found 0001\n"
     ]
    },
    {
     "data": {
      "text/plain": [
       "['1110', '0110', '0011', '0001']"
      ]
     },
     "execution_count": 21,
     "metadata": {},
     "output_type": "execute_result"
    }
   ],
   "source": [
    "dfs(d,start,st)"
   ]
  }
 ],
 "metadata": {
  "kernelspec": {
   "display_name": "Python 3 (ipykernel)",
   "language": "python",
   "name": "python3"
  },
  "language_info": {
   "codemirror_mode": {
    "name": "ipython",
    "version": 3
   },
   "file_extension": ".py",
   "mimetype": "text/x-python",
   "name": "python",
   "nbconvert_exporter": "python",
   "pygments_lexer": "ipython3",
   "version": "3.11.3"
  }
 },
 "nbformat": 4,
 "nbformat_minor": 5
}
