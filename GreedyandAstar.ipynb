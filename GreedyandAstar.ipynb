{
 "cells": [
  {
   "cell_type": "code",
   "execution_count": 1,
   "id": "a53ea7e2",
   "metadata": {},
   "outputs": [
    {
     "name": "stdout",
     "output_type": "stream",
     "text": [
      "Enter number of nodes in the graph:10\n",
      "1 2 3 4 5 6 7 8 9 10 are the names of nodes\n",
      "Enter path costs as follows for each node accordingly and x to quit reading costs:\n",
      "<from_node> <to_node> <cost>\n",
      "Enter:1 2 1\n",
      "Enter:1 3 2\n",
      "Enter:2 4 7\n",
      "Enter:2 5 9\n",
      "Enter:2 6 5\n",
      "Enter:3 7 4\n",
      "Enter:3 8 3\n",
      "Enter:3 9 6\n",
      "Enter:3 10 8\n",
      "Enter:8 9 1\n",
      "Enter:x\n",
      "Enter heuristic values in order:8 10 4 15 14 12 7 2 0 4\n"
     ]
    }
   ],
   "source": [
    "n=int(input(\"Enter number of nodes in the graph:\"))\n",
    "cost = [[0] * n for i in range(n)]\n",
    "for i in range(n):\n",
    "    print(i+1,end=' ')\n",
    "print(\"are the names of nodes\")\n",
    "print(\"Enter path costs as follows for each node accordingly and x to quit reading costs:\")\n",
    "print(\"<from_node> <to_node> <cost>\")\n",
    "while True:\n",
    "    s=input(\"Enter:\")\n",
    "    if s=='x' or s=='X':\n",
    "        break\n",
    "    s=s.split()\n",
    "    cost[int(s[0])-1][int(s[1])-1]=int(s[2])\n",
    "h= list(map(int,input(\"Enter heuristic values in order:\").split()))"
   ]
  },
  {
   "cell_type": "code",
   "execution_count": 43,
   "id": "0bb356e4",
   "metadata": {},
   "outputs": [
    {
     "name": "stdout",
     "output_type": "stream",
     "text": [
      "Enter source node:1\n",
      "Enter destination node:9\n",
      "Nodes travelled are:\n",
      "1->3->9\n"
     ]
    }
   ],
   "source": [
    "source=int(input(\"Enter source node:\"))-1\n",
    "destination=int(input(\"Enter destination node:\"))-1\n",
    "def greed(cost,h,source,destination):\n",
    "    op=[]\n",
    "    c=[0]\n",
    "    while source!=destination:\n",
    "        op.append(source)\n",
    "        children=[]\n",
    "        children_f=[]\n",
    "        for i in range(len(cost[0])):\n",
    "            if cost[source][i]>0:\n",
    "                children.append(i)\n",
    "                children_f.append(h[i])\n",
    "        if len(children)>0:\n",
    "            index=children_f.index(min(children_f))\n",
    "        source=children[index]\n",
    "    op.append(source)\n",
    "    return op,c\n",
    "op,c=greed(cost,h,source,destination)\n",
    "print('Nodes travelled are:')\n",
    "for i in op[:-1]:\n",
    "    print(i+1,end='->')\n",
    "print(op[-1]+1)"
   ]
  },
  {
   "cell_type": "code",
   "execution_count": 42,
   "id": "73ca499b",
   "metadata": {},
   "outputs": [
    {
     "name": "stdout",
     "output_type": "stream",
     "text": [
      "Enter source node:1\n",
      "Enter destination node:9\n",
      "Nodes travelled are:\n",
      "1->3->8->9\n",
      "Cost to traverse is  6\n"
     ]
    }
   ],
   "source": [
    "source=int(input(\"Enter source node:\"))-1\n",
    "destination=int(input(\"Enter destination node:\"))-1\n",
    "def Astar(cost,h,source,destination):\n",
    "    op=[]\n",
    "    c=[0]\n",
    "    while source!=destination:\n",
    "        op.append(source)\n",
    "        if len(op)>1:\n",
    "            c.append(cost[op[-2]][op[-1]])\n",
    "        children=[]\n",
    "        children_f=[]\n",
    "        for i in range(len(cost[0])):\n",
    "            if cost[source][i]>0:\n",
    "                children.append(i)\n",
    "                children_f.append(sum(c)+h[i]+cost[source][i])\n",
    "        if len(children)>0:\n",
    "            index=children_f.index(min(children_f))\n",
    "        source=children[index]\n",
    "    op.append(source)\n",
    "    c.append(cost[op[-2]][op[-1]])\n",
    "    return op,c\n",
    "op,c=Astar(cost,h,source,destination)\n",
    "print('Nodes travelled are:')\n",
    "for i in op[:-1]:\n",
    "    print(i+1,end='->')\n",
    "print(op[-1]+1)\n",
    "print(\"Cost to traverse is \",sum(c))"
   ]
  }
 ],
 "metadata": {
  "kernelspec": {
   "display_name": "Python 3 (ipykernel)",
   "language": "python",
   "name": "python3"
  },
  "language_info": {
   "codemirror_mode": {
    "name": "ipython",
    "version": 3
   },
   "file_extension": ".py",
   "mimetype": "text/x-python",
   "name": "python",
   "nbconvert_exporter": "python",
   "pygments_lexer": "ipython3",
   "version": "3.11.3"
  }
 },
 "nbformat": 4,
 "nbformat_minor": 5
}
