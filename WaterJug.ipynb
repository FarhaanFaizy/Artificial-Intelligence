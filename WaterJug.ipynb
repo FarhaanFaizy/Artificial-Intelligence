{
 "cells": [
  {
   "cell_type": "code",
   "execution_count": 2,
   "id": "017d9222",
   "metadata": {},
   "outputs": [],
   "source": [
    "def fill(x,jug,i):\n",
    "    x=list(x)\n",
    "    x[i]=jug\n",
    "    return tuple(x)\n",
    "def empty(x,i):\n",
    "    x=list(x)\n",
    "    x[i]=0\n",
    "    return tuple(x)\n",
    "def transfer(x,jug1,jug2,i):\n",
    "    x=list(x)\n",
    "    if i==1:\n",
    "        available=jug2-x[1]\n",
    "        if x[0]>available:\n",
    "            x[0]-=available\n",
    "            x[1]+=available\n",
    "        else:\n",
    "            x[1]+=x[0]\n",
    "            x[0]=0\n",
    "    elif i==2:\n",
    "        available=jug1-x[0]\n",
    "        if x[1]>available:\n",
    "            x[1]-=available\n",
    "            x[0]+=available\n",
    "        else:\n",
    "            x[0]+=x[1]\n",
    "            x[1]=0\n",
    "    return tuple(x)  "
   ]
  },
  {
   "cell_type": "code",
   "execution_count": 39,
   "id": "d773bf5d",
   "metadata": {},
   "outputs": [
    {
     "name": "stdout",
     "output_type": "stream",
     "text": [
      "Enter capacities of jug1 and jug2:3 5\n",
      "Enter Volume to make:4\n"
     ]
    }
   ],
   "source": [
    "def make_tree(d,jug1,jug2,vol):\n",
    "    all_nodes=[(0,0)]\n",
    "    flag=1\n",
    "    while(flag):\n",
    "        if flag==2:\n",
    "            break\n",
    "        flag=0\n",
    "        source=all_nodes[0]\n",
    "        for i in [1,2]:\n",
    "            x=jug2\n",
    "            if i==1:\n",
    "                x=jug1\n",
    "            f=fill(source,x,i-1)\n",
    "            if f not in all_nodes:\n",
    "                all_nodes.insert(0,f)\n",
    "                d[source].append(f)\n",
    "                d[f]=[]\n",
    "                flag=1\n",
    "                if f[0]==vol or f[1]==vol:\n",
    "                    break\n",
    "            f=empty(source,i-1)\n",
    "            if f not in all_nodes:\n",
    "                all_nodes.insert(0,f)\n",
    "                d[source].append(f)\n",
    "                d[f]=[]\n",
    "                flag=1\n",
    "                if f[0]==vol or f[1]==vol:\n",
    "                    break\n",
    "            f=transfer(source,jug1,jug2,i)\n",
    "            if f not in all_nodes:\n",
    "                all_nodes.insert(0,f)\n",
    "                d[source].append(f)\n",
    "                d[f]=[]\n",
    "                flag=1\n",
    "                if f[0]==vol or f[1]==vol:\n",
    "                    flag=2\n",
    "                    break\n",
    "\n",
    "jug1,jug2=map(int,input('Enter capacities of jug1 and jug2:').split())\n",
    "vol=int(input('Enter Volume to make:'))\n",
    "d={}\n",
    "d[(0,0)]=[]\n",
    "make_tree(d,jug1,jug2,vol) \n",
    "final=[]\n",
    "for i,j in d.items():\n",
    "    if j==[]:\n",
    "        if i[0]!=vol and i[1]!=vol:\n",
    "            pass\n",
    "        else:\n",
    "            final.append(i)\n",
    "    else:\n",
    "        final.append(i)"
   ]
  },
  {
   "cell_type": "code",
   "execution_count": 40,
   "id": "fd5a9c84",
   "metadata": {},
   "outputs": [
    {
     "name": "stdout",
     "output_type": "stream",
     "text": [
      "Open List--Closed List\n",
      "[(0, 0)]--[]\n",
      "[(3, 0), (0, 5)]--[(0, 0)]\n",
      "\n",
      "[(0, 5)]--[(0, 0), (3, 0)]\n",
      "\n",
      "[(3, 5), (3, 2)]--[(0, 0), (3, 0), (0, 5)]\n",
      "\n",
      "[(3, 2)]--[(0, 0), (3, 0), (0, 5), (3, 5)]\n",
      "\n",
      "[(0, 2)]--[(0, 0), (3, 0), (0, 5), (3, 5), (3, 2)]\n",
      "\n",
      "[(2, 0)]--[(0, 0), (3, 0), (0, 5), (3, 5), (3, 2), (0, 2)]\n",
      "\n",
      "[(2, 5)]--[(0, 0), (3, 0), (0, 5), (3, 5), (3, 2), (0, 2), (2, 0)]\n",
      "\n",
      "[(3, 4)]--[(0, 0), (3, 0), (0, 5), (3, 5), (3, 2), (0, 2), (2, 0), (2, 5)]\n",
      "\n",
      "Required node is found (3, 4)\n"
     ]
    },
    {
     "data": {
      "text/plain": [
       "[(0, 0), (3, 0), (0, 5), (3, 5), (3, 2), (0, 2), (2, 0), (2, 5), (3, 4)]"
      ]
     },
     "execution_count": 40,
     "metadata": {},
     "output_type": "execute_result"
    }
   ],
   "source": [
    "%run bfsdfs.ipynb\n",
    "bfs(d,(0,0),final[-1])"
   ]
  },
  {
   "cell_type": "code",
   "execution_count": 23,
   "id": "38d3ec34",
   "metadata": {},
   "outputs": [
    {
     "name": "stdout",
     "output_type": "stream",
     "text": [
      "Open List--Closed List\n",
      "[(0, 0)]--[]\n",
      "[(0, 5), (3, 0)]--[(0, 0)]\n",
      "\n",
      "[(3, 2), (3, 5), (3, 0)]--[(0, 0), (0, 5)]\n",
      "\n",
      "[(0, 2), (3, 5), (3, 0)]--[(0, 0), (0, 5), (3, 2)]\n",
      "\n",
      "[(2, 0), (3, 5), (3, 0)]--[(0, 0), (0, 5), (3, 2), (0, 2)]\n",
      "\n",
      "[(2, 5), (3, 5), (3, 0)]--[(0, 0), (0, 5), (3, 2), (0, 2), (2, 0)]\n",
      "\n",
      "[(3, 4), (3, 5), (3, 0)]--[(0, 0), (0, 5), (3, 2), (0, 2), (2, 0), (2, 5)]\n",
      "\n",
      "Required node is found (3, 4)\n"
     ]
    },
    {
     "data": {
      "text/plain": [
       "[(0, 0), (0, 5), (3, 2), (0, 2), (2, 0), (2, 5), (3, 4)]"
      ]
     },
     "execution_count": 23,
     "metadata": {},
     "output_type": "execute_result"
    }
   ],
   "source": [
    "%run bfsdfs.ipynb\n",
    "dfs(d,(0,0),final[-1])"
   ]
  },
  {
   "cell_type": "code",
   "execution_count": 24,
   "id": "6903d4f6",
   "metadata": {},
   "outputs": [
    {
     "data": {
      "text/plain": [
       "[(0, 0), (0, 5), (3, 2), (0, 2), (2, 0), (2, 5), (3, 4)]"
      ]
     },
     "execution_count": 24,
     "metadata": {},
     "output_type": "execute_result"
    }
   ],
   "source": [
    "final=[]\n",
    "for i,j in d.items():\n",
    "    if j==[]:\n",
    "        if i[0]!=vol and i[1]!=vol:\n",
    "            pass\n",
    "        else:\n",
    "            final.append(i)\n",
    "    else:\n",
    "        final.append(i)\n",
    "final"
   ]
  }
 ],
 "metadata": {
  "kernelspec": {
   "display_name": "Python 3 (ipykernel)",
   "language": "python",
   "name": "python3"
  },
  "language_info": {
   "codemirror_mode": {
    "name": "ipython",
    "version": 3
   },
   "file_extension": ".py",
   "mimetype": "text/x-python",
   "name": "python",
   "nbconvert_exporter": "python",
   "pygments_lexer": "ipython3",
   "version": "3.11.3"
  }
 },
 "nbformat": 4,
 "nbformat_minor": 5
}
